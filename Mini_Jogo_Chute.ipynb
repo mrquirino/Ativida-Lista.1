{
  "nbformat": 4,
  "nbformat_minor": 0,
  "metadata": {
    "colab": {
      "provenance": [],
      "authorship_tag": "ABX9TyPNkaiRhQC290Hd8uVTCp61",
      "include_colab_link": true
    },
    "kernelspec": {
      "name": "python3",
      "display_name": "Python 3"
    },
    "language_info": {
      "name": "python"
    }
  },
  "cells": [
    {
      "cell_type": "markdown",
      "metadata": {
        "id": "view-in-github",
        "colab_type": "text"
      },
      "source": [
        "<a href=\"https://colab.research.google.com/github/mrquirino/Atividade-Lista.1/blob/main/Mini_Jogo_Chute.ipynb\" target=\"_parent\"><img src=\"https://colab.research.google.com/assets/colab-badge.svg\" alt=\"Open In Colab\"/></a>"
      ]
    },
    {
      "cell_type": "code",
      "execution_count": 17,
      "metadata": {
        "colab": {
          "base_uri": "https://localhost:8080/",
          "height": 1000
        },
        "id": "ifNl4lZXxwYu",
        "outputId": "549f01ff-9c23-41d7-e98c-bfb3629ff9e8"
      },
      "outputs": [
        {
          "output_type": "stream",
          "name": "stdout",
          "text": [
            "Bem-Vindo, Game Chute\n",
            "Digite seu Chute:  33\n",
            "Digite um número menor\n",
            "Digite seu Chute:  \n",
            "Por favor, digite um número válido.\n",
            "Digite seu Chute:  32\n",
            "Digite um número menor\n",
            "Digite seu Chute:  12\n",
            "Digite um número menor\n",
            "Digite seu Chute:  11\n",
            "Digite um número menor\n",
            "Digite seu Chute:  10\n",
            "Digite um número menor\n",
            "Digite seu Chute:  99\n",
            "Seu chute é muito alto!\n",
            "Digite seu Chute:  88\n",
            "Seu chute é muito alto!\n",
            "Digite seu Chute:  77\n",
            "Seu chute é muito alto!\n",
            "Digite seu Chute:  66\n",
            "Digite um número menor\n",
            "Digite seu Chute:  55\n",
            "Digite um número menor\n",
            "Digite seu Chute:  44\n",
            "Digite um número menor\n",
            "Digite seu Chute:  33\n",
            "Digite um número menor\n",
            "Digite seu Chute:  22\n",
            "Digite um número menor\n",
            "Digite seu Chute:  1\n",
            "Digite um número menor\n",
            "Digite seu Chute:  11\n",
            "Digite um número menor\n",
            "Digite seu Chute:  01\n",
            "Digite um número menor\n",
            "Digite seu Chute:  10\n",
            "Digite um número menor\n",
            "Digite seu Chute:  0001\n",
            "Digite um número menor\n",
            "Digite seu Chute:  0000000000000000000\n",
            "Digite um número menor\n",
            "Digite seu Chute:  1\n",
            "Digite um número menor\n",
            "Digite seu Chute:  2\n",
            "Digite um número menor\n",
            "Digite seu Chute:  3\n",
            "Digite um número menor\n",
            "Digite seu Chute:  4\n",
            "Digite um número menor\n",
            "Digite seu Chute:  5\n",
            "Digite um número menor\n",
            "Digite seu Chute:  6\n",
            "Digite um número menor\n",
            "Digite seu Chute:  7\n",
            "Digite um número menor\n",
            "Digite seu Chute:  8\n",
            "Digite um número menor\n",
            "Digite seu Chute:  9\n",
            "Digite um número menor\n"
          ]
        },
        {
          "output_type": "error",
          "ename": "KeyboardInterrupt",
          "evalue": "Interrupted by user",
          "traceback": [
            "\u001b[0;31m---------------------------------------------------------------------------\u001b[0m",
            "\u001b[0;31mKeyboardInterrupt\u001b[0m                         Traceback (most recent call last)",
            "\u001b[0;32m<ipython-input-17-fd33ad9773e9>\u001b[0m in \u001b[0;36m<cell line: 10>\u001b[0;34m()\u001b[0m\n\u001b[1;32m     10\u001b[0m \u001b[0;32mwhile\u001b[0m \u001b[0mchute\u001b[0m \u001b[0;34m!=\u001b[0m \u001b[0msorteando\u001b[0m\u001b[0;34m:\u001b[0m\u001b[0;34m\u001b[0m\u001b[0;34m\u001b[0m\u001b[0m\n\u001b[1;32m     11\u001b[0m     \u001b[0;32mtry\u001b[0m\u001b[0;34m:\u001b[0m\u001b[0;34m\u001b[0m\u001b[0;34m\u001b[0m\u001b[0m\n\u001b[0;32m---> 12\u001b[0;31m         \u001b[0mchute\u001b[0m \u001b[0;34m=\u001b[0m \u001b[0mint\u001b[0m\u001b[0;34m(\u001b[0m\u001b[0minput\u001b[0m\u001b[0;34m(\u001b[0m\u001b[0;34m'Digite seu Chute:  '\u001b[0m\u001b[0;34m)\u001b[0m\u001b[0;34m)\u001b[0m\u001b[0;34m\u001b[0m\u001b[0;34m\u001b[0m\u001b[0m\n\u001b[0m\u001b[1;32m     13\u001b[0m         \u001b[0;32mif\u001b[0m \u001b[0mchute\u001b[0m \u001b[0;34m==\u001b[0m \u001b[0msorteando\u001b[0m\u001b[0;34m:\u001b[0m\u001b[0;34m\u001b[0m\u001b[0;34m\u001b[0m\u001b[0m\n\u001b[1;32m     14\u001b[0m             \u001b[0mprint\u001b[0m\u001b[0;34m(\u001b[0m\u001b[0;34m'\\33[1;92mParabéns, você venceu!'\u001b[0m\u001b[0;34m)\u001b[0m\u001b[0;34m\u001b[0m\u001b[0;34m\u001b[0m\u001b[0m\n",
            "\u001b[0;32m/usr/local/lib/python3.10/dist-packages/ipykernel/kernelbase.py\u001b[0m in \u001b[0;36mraw_input\u001b[0;34m(self, prompt)\u001b[0m\n\u001b[1;32m    849\u001b[0m                 \u001b[0;34m\"raw_input was called, but this frontend does not support input requests.\"\u001b[0m\u001b[0;34m\u001b[0m\u001b[0;34m\u001b[0m\u001b[0m\n\u001b[1;32m    850\u001b[0m             )\n\u001b[0;32m--> 851\u001b[0;31m         return self._input_request(str(prompt),\n\u001b[0m\u001b[1;32m    852\u001b[0m             \u001b[0mself\u001b[0m\u001b[0;34m.\u001b[0m\u001b[0m_parent_ident\u001b[0m\u001b[0;34m,\u001b[0m\u001b[0;34m\u001b[0m\u001b[0;34m\u001b[0m\u001b[0m\n\u001b[1;32m    853\u001b[0m             \u001b[0mself\u001b[0m\u001b[0;34m.\u001b[0m\u001b[0m_parent_header\u001b[0m\u001b[0;34m,\u001b[0m\u001b[0;34m\u001b[0m\u001b[0;34m\u001b[0m\u001b[0m\n",
            "\u001b[0;32m/usr/local/lib/python3.10/dist-packages/ipykernel/kernelbase.py\u001b[0m in \u001b[0;36m_input_request\u001b[0;34m(self, prompt, ident, parent, password)\u001b[0m\n\u001b[1;32m    893\u001b[0m             \u001b[0;32mexcept\u001b[0m \u001b[0mKeyboardInterrupt\u001b[0m\u001b[0;34m:\u001b[0m\u001b[0;34m\u001b[0m\u001b[0;34m\u001b[0m\u001b[0m\n\u001b[1;32m    894\u001b[0m                 \u001b[0;31m# re-raise KeyboardInterrupt, to truncate traceback\u001b[0m\u001b[0;34m\u001b[0m\u001b[0;34m\u001b[0m\u001b[0m\n\u001b[0;32m--> 895\u001b[0;31m                 \u001b[0;32mraise\u001b[0m \u001b[0mKeyboardInterrupt\u001b[0m\u001b[0;34m(\u001b[0m\u001b[0;34m\"Interrupted by user\"\u001b[0m\u001b[0;34m)\u001b[0m \u001b[0;32mfrom\u001b[0m \u001b[0;32mNone\u001b[0m\u001b[0;34m\u001b[0m\u001b[0;34m\u001b[0m\u001b[0m\n\u001b[0m\u001b[1;32m    896\u001b[0m             \u001b[0;32mexcept\u001b[0m \u001b[0mException\u001b[0m \u001b[0;32mas\u001b[0m \u001b[0me\u001b[0m\u001b[0;34m:\u001b[0m\u001b[0;34m\u001b[0m\u001b[0;34m\u001b[0m\u001b[0m\n\u001b[1;32m    897\u001b[0m                 \u001b[0mself\u001b[0m\u001b[0;34m.\u001b[0m\u001b[0mlog\u001b[0m\u001b[0;34m.\u001b[0m\u001b[0mwarning\u001b[0m\u001b[0;34m(\u001b[0m\u001b[0;34m\"Invalid Message:\"\u001b[0m\u001b[0;34m,\u001b[0m \u001b[0mexc_info\u001b[0m\u001b[0;34m=\u001b[0m\u001b[0;32mTrue\u001b[0m\u001b[0;34m)\u001b[0m\u001b[0;34m\u001b[0m\u001b[0;34m\u001b[0m\u001b[0m\n",
            "\u001b[0;31mKeyboardInterrupt\u001b[0m: Interrupted by user"
          ]
        }
      ],
      "source": [
        "#mrquirino\n",
        "\n",
        "from random import randint\n",
        "\n",
        "print('Bem-Vindo, Game Chute')\n",
        "\n",
        "sorteando = randint(1, 100)\n",
        "chute = 0\n",
        "\n",
        "while chute != sorteando:\n",
        "    try:\n",
        "        chute = int(input('Digite seu Chute:  '))\n",
        "        if chute == sorteando:\n",
        "            print('\\33[1;92mParabéns, você venceu!')\n",
        "        else:\n",
        "            if chute > sorteando:\n",
        "                print('Seu chute é muito alto!')\n",
        "            else:\n",
        "                print('Digite um número menor')\n",
        "    except ValueError:\n",
        "        print('Por favor, digite um número válido.')\n",
        "\n",
        "print('Fim de jogo! :D')\n"
      ]
    }
  ]
}