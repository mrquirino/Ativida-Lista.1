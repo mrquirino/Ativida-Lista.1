{
  "nbformat": 4,
  "nbformat_minor": 0,
  "metadata": {
    "colab": {
      "provenance": [],
      "authorship_tag": "ABX9TyM/ZjI3diCL4i2gXz8AaOzj",
      "include_colab_link": true
    },
    "kernelspec": {
      "name": "python3",
      "display_name": "Python 3"
    },
    "language_info": {
      "name": "python"
    }
  },
  "cells": [
    {
      "cell_type": "markdown",
      "metadata": {
        "id": "view-in-github",
        "colab_type": "text"
      },
      "source": [
        "<a href=\"https://colab.research.google.com/github/mrquirino/Atividade-Lista.1/blob/main/Projeto_Mini_Akinator.ipynb\" target=\"_parent\"><img src=\"https://colab.research.google.com/assets/colab-badge.svg\" alt=\"Open In Colab\"/></a>"
      ]
    },
    {
      "cell_type": "code",
      "execution_count": 49,
      "metadata": {
        "colab": {
          "base_uri": "https://localhost:8080/"
        },
        "id": "VesuUB9yHFMS",
        "outputId": "bff396a5-b252-4ca1-cf23-a96f069c9f93"
      },
      "outputs": [
        {
          "output_type": "stream",
          "name": "stdout",
          "text": [
            "Pense em um mês do ano...\n",
            "Agora responda: \n",
            "Tem mais que 30 dias? (S: Sim / N:Não / NS: Não Sei)S\n",
            "Ele é um mês impar?? (S: Sim / N:Não / NS: Não Sei)N\n",
            "Ele é um mês par?? (S: Sim / N:Não / NS: Não Sei)S\n",
            "A estação dele é verão?? (S: Sim / N:Não / NS: Não Sei)S\n",
            "A resposta é dezembro\n"
          ]
        }
      ],
      "source": [
        "import pandas as pd\n",
        "\n",
        "dados = pd.read_csv('perguntas.csv')\n",
        "mes = None\n",
        "\n",
        "print('Pense em um mês do ano...')\n",
        "print('Agora responda: ')\n",
        "\n",
        "while not mes:\n",
        "\n",
        "  perguntas = list(dados.columns[1:].values)\n",
        "  respostas = []\n",
        "  for pergunta in perguntas:\n",
        "      respostas.append(dados[pergunta].sum())\n",
        "\n",
        "  pergunta_rodada = perguntas[respostas.index(max(respostas))]\n",
        "  resposta_rodada = input(f'{pergunta_rodada} (S: Sim / N:Não / NS: Não Sei)')\n",
        "\n",
        "  if resposta_rodada == 'S':\n",
        "    dados = dados[dados[pergunta_rodada] == 1].drop(columns=[pergunta_rodada])\n",
        "  elif resposta_rodada == 'N':\n",
        "    dados = dados[dados[pergunta_rodada] == 0].drop(columns=[pergunta_rodada])\n",
        "  if len(dados.index) == 1:\n",
        "    mes = dados['Mês'].values[0]\n",
        "  elif len(dados.index) == 0:\n",
        "    print('As respostas foram inclocusivas. Vamos recomecar?')\n",
        "    dados = pd.read_csv('perguntas.csv')\n",
        "\n",
        "print(f'A resposta é {mes}')\n",
        "\n",
        "\n"
      ]
    }
  ]
}